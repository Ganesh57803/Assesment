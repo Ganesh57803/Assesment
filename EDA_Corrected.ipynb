{
 "cells": [
  {
   "cell_type": "markdown",
   "metadata": {},
   "source": [
    "# Exploratory Data Analysis (EDA) on eCommerce Transactions Dataset\n",
    "\n",
    "This notebook performs EDA on the provided eCommerce Transactions dataset consisting of Customers, Products, and Transactions."
   ]
  },
  {
   "cell_type": "code",
   "execution_count": null,
   "metadata": {},
   "outputs": [],
   "source": [
    "# Import necessary libraries\n",
    "import pandas as pd\n",
    "import matplotlib.pyplot as plt\n",
    "import seaborn as sns\n",
    "\n",
    "# Load the datasets\n",
    "customers = pd.read_csv('Customers.csv')\n",
    "products = pd.read_csv('Products.csv')\n",
    "transactions = pd.read_csv('Transactions.csv')\n",
    "\n",
    "# Display the first few rows of each dataset\n",
    "customers.head(), products.head(), transactions.head()"
   ]
  },
  {
   "cell_type": "code",
   "execution_count": null,
   "metadata": {},
   "outputs": [],
   "source": [
    "# Check for missing values and data types\n",
    "customers.info(), products.info(), transactions.info()"
   ]
  },
  {
   "cell_type": "code",
   "execution_count": null,
   "metadata": {},
   "outputs": [],
   "source": [
    "# Basic statistics\n",
    "customers.describe(), products.describe(), transactions.describe()"
   ]
  },
  {
   "cell_type": "code",
   "execution_count": null,
   "metadata": {},
   "outputs": [],
   "source": [
    "# Visualizations\n",
    "# Customer distribution by region\n",
    "plt.figure(figsize=(10, 6))\n",
    "sns.countplot(data=customers, x='Region')\n",
    "plt.title('Customer Distribution by Region')\n",
    "plt.show()\n",
    "\n",
    "# Product categories\n",
    "plt.figure(figsize=(10, 6))\n",
    "sns.countplot(data=products, x='Category')\n",
    "plt.title('Product Categories')\n",
    "plt.show()\n",
    "\n",
    "# Transaction trends over time\n",
    "transactions['TransactionDate'] = pd.to_datetime(transactions['TransactionDate'])\n",
    "transactions.set_index('TransactionDate', inplace=True)\n",
    "transactions.resample('M').sum()['TotalValue'].plot(figsize=(10, 6))\n",
    "plt.title('Monthly Transaction Trends')\n",
    "plt.ylabel('Total Value')\n",
    "plt.show()"
   ]
  }
 ],
 "metadata": {
  "kernelspec": {
   "display_name": "Python 3",
   "language": "python",
   "name": "python3"
  },
  "language_info": {
   "codemirror_mode": {
    "name": "ipython",
    "version": 3
   },
   "file_extension": ".py",
   "mimetype": "text/x-python",
   "name": "python",
   "nbconvert_exporter": "python",
   "pygments_lexer": "ipython3",
   "version": "3.8.5"
  }
 },
 "nbformat": 4,
 "nbformat_minor": 4
}
